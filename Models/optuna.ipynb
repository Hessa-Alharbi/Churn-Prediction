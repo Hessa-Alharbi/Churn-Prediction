{
 "cells": [
  {
   "cell_type": "markdown",
   "metadata": {},
   "source": [
    "## Optuna"
   ]
  },
  {
   "cell_type": "code",
   "execution_count": 8,
   "metadata": {},
   "outputs": [],
   "source": [
    "# Optuna hyperparamert optimization library \n",
    "import optuna"
   ]
  },
  {
   "cell_type": "code",
   "execution_count": 7,
   "metadata": {},
   "outputs": [],
   "source": [
    "%store -r X_train\n",
    "%store -r X_test\n",
    "%store -r y_train\n",
    "%store -r y_test\n",
    "%store -r df\n",
    "%store -r scaler\n",
    "%store -r X_val\n",
    "%store -r y_val\n",
    "%store -r X_train_sc\n",
    "%store -r X_val_sc"
   ]
  },
  {
   "cell_type": "code",
   "execution_count": 3,
   "metadata": {},
   "outputs": [
    {
     "name": "stdout",
     "output_type": "stream",
     "text": [
      "Train data shape:  (6399, 11)\n",
      "Test data shape:  (2000, 11)\n"
     ]
    }
   ],
   "source": [
    "print(\"Train data shape: \", X_train.shape)\n",
    "print(\"Test data shape: \", X_test.shape)"
   ]
  },
  {
   "cell_type": "code",
   "execution_count": 4,
   "metadata": {},
   "outputs": [
    {
     "data": {
      "text/plain": [
       "Counter({0: 5095, 1: 1304})"
      ]
     },
     "execution_count": 4,
     "metadata": {},
     "output_type": "execute_result"
    }
   ],
   "source": [
    "from collections import Counter\n",
    "\n",
    "\n",
    "Counter(y_train)"
   ]
  },
  {
   "cell_type": "code",
   "execution_count": 1,
   "metadata": {},
   "outputs": [
    {
     "name": "stderr",
     "output_type": "stream",
     "text": [
      "c:\\Python310\\lib\\site-packages\\tqdm\\auto.py:21: TqdmWarning: IProgress not found. Please update jupyter and ipywidgets. See https://ipywidgets.readthedocs.io/en/stable/user_install.html\n",
      "  from .autonotebook import tqdm as notebook_tqdm\n"
     ]
    }
   ],
   "source": [
    "from tensorflow.keras.optimizers import Adam, Adadelta, RMSprop, Nadam\n",
    "import optuna"
   ]
  },
  {
   "cell_type": "code",
   "execution_count": 30,
   "metadata": {},
   "outputs": [],
   "source": [
    "import tensorflow as tf\n",
    "from tensorflow.keras.models import Sequential\n",
    "from tensorflow.keras.layers import Dense, Input\n",
    "\n",
    "\n",
    "callback = tf.keras.callbacks.EarlyStopping(\n",
    "    monitor='val_loss',\n",
    "    patience=25,\n",
    "    mode='min',\n",
    "    restore_best_weights=True,\n",
    "    verbose=1\n",
    "\n",
    ")\n",
    "\n"
   ]
  },
  {
   "cell_type": "code",
   "execution_count": 90,
   "metadata": {},
   "outputs": [],
   "source": [
    "trial_metric = \"Recall\"\n",
    "batch_size = 64\n",
    "\n",
    "def create_model(trial):\n",
    "    n_units1 = trial.suggest_int(\"n_units1\", 8, 128) \n",
    "    n_units2 = trial.suggest_int(\"n_units2\", 8, 128)\n",
    "    n_units3 = trial.suggest_int(\"n_units3\", 6, 128)\n",
    "    optimizer = trial.suggest_categorical(\"optimizer\", [Adam, Adadelta, RMSprop, Nadam])\n",
    "    learning_rate = trial.suggest_loguniform(\"learning_rate\", 1e-5, 1.3e-1)\n",
    "\n",
    "    tf.random.set_seed(42)\n",
    "    model = Sequential()\n",
    "    model.add(Dense(n_units1, input_dim=X_train.shape[1], activation=\"relu\"))\n",
    "    model.add(Dense(n_units2, activation=\"relu\"))\n",
    "    model.add(Dense(n_units3, activation=\"relu\"))\n",
    "    model.add(Dense(1, activation=\"sigmoid\"))\n",
    "    model.compile(\n",
    "        loss=\"binary_crossentropy\",\n",
    "        optimizer=optimizer(learning_rate=learning_rate),\n",
    "        metrics=[trial_metric],\n",
    "    )\n",
    "    return model\n",
    "\n",
    "\n",
    "def objective(trial):\n",
    "    model = create_model(trial)\n",
    "    w0 = trial.suggest_loguniform(\"w0\", 0.01, 5)\n",
    "    w1 = trial.suggest_loguniform(\"w1\", 0.01, 5)\n",
    "    model.fit(\n",
    "        X_train,\n",
    "        y_train,\n",
    "        validation_data=(X_val, y_val),\n",
    "        batch_size=batch_size,\n",
    "        epochs=300,\n",
    "        callbacks=[callback],\n",
    "        class_weight={0: w0, 1: w1},\n",
    "        verbose=0,\n",
    "    )\n",
    "    score = model.evaluate(X_train, y_train, verbose=0)[1]\n",
    "\n",
    "    return score\n"
   ]
  },
  {
   "cell_type": "code",
   "execution_count": 91,
   "metadata": {},
   "outputs": [
    {
     "name": "stderr",
     "output_type": "stream",
     "text": [
      "[I 2023-10-30 23:12:14,631] A new study created in memory with name: no-name-17276321-5556-459a-b068-b836ea6d92a3\n",
      "C:\\Users\\hessa\\AppData\\Local\\Temp\\ipykernel_8976\\1782540007.py:9: FutureWarning: suggest_loguniform has been deprecated in v3.0.0. This feature will be removed in v6.0.0. See https://github.com/optuna/optuna/releases/tag/v3.0.0. Use suggest_float(..., log=True) instead.\n",
      "  learning_rate = trial.suggest_loguniform(\"learning_rate\", 1e-5, 1.3e-1)\n",
      "C:\\Users\\hessa\\AppData\\Local\\Temp\\ipykernel_8976\\1782540007.py:27: FutureWarning: suggest_loguniform has been deprecated in v3.0.0. This feature will be removed in v6.0.0. See https://github.com/optuna/optuna/releases/tag/v3.0.0. Use suggest_float(..., log=True) instead.\n",
      "  w0 = trial.suggest_loguniform(\"w0\", 0.01, 5)\n",
      "C:\\Users\\hessa\\AppData\\Local\\Temp\\ipykernel_8976\\1782540007.py:28: FutureWarning: suggest_loguniform has been deprecated in v3.0.0. This feature will be removed in v6.0.0. See https://github.com/optuna/optuna/releases/tag/v3.0.0. Use suggest_float(..., log=True) instead.\n",
      "  w1 = trial.suggest_loguniform(\"w1\", 0.01, 5)\n"
     ]
    },
    {
     "name": "stdout",
     "output_type": "stream",
     "text": [
      "Restoring model weights from the end of the best epoch: 3.\n",
      "Epoch 28: early stopping\n"
     ]
    },
    {
     "name": "stderr",
     "output_type": "stream",
     "text": [
      "[I 2023-10-30 23:12:22,460] Trial 0 finished with value: 0.0 and parameters: {'n_units1': 127, 'n_units2': 93, 'n_units3': 123, 'optimizer': <class 'keras.optimizers.rmsprop.RMSprop'>, 'learning_rate': 2.3980696704448687e-05, 'w0': 2.1503112496628103, 'w1': 0.05220387432731642}. Best is trial 0 with value: 0.0.\n",
      "[I 2023-10-30 23:13:40,816] Trial 1 finished with value: 0.0 and parameters: {'n_units1': 83, 'n_units2': 44, 'n_units3': 120, 'optimizer': <class 'keras.optimizers.adadelta.Adadelta'>, 'learning_rate': 0.00041186032767626465, 'w0': 0.2732887087239401, 'w1': 0.5569053283184449}. Best is trial 0 with value: 0.0.\n"
     ]
    },
    {
     "name": "stdout",
     "output_type": "stream",
     "text": [
      "Restoring model weights from the end of the best epoch: 29.\n",
      "Epoch 54: early stopping\n"
     ]
    },
    {
     "name": "stderr",
     "output_type": "stream",
     "text": [
      "[I 2023-10-30 23:13:52,786] Trial 2 finished with value: 0.33052146434783936 and parameters: {'n_units1': 76, 'n_units2': 35, 'n_units3': 64, 'optimizer': <class 'keras.optimizers.rmsprop.RMSprop'>, 'learning_rate': 0.035826038736531486, 'w0': 0.6358550345171224, 'w1': 0.019169654979225258}. Best is trial 2 with value: 0.33052146434783936.\n"
     ]
    },
    {
     "name": "stdout",
     "output_type": "stream",
     "text": [
      "Restoring model weights from the end of the best epoch: 46.\n",
      "Epoch 71: early stopping\n"
     ]
    },
    {
     "name": "stderr",
     "output_type": "stream",
     "text": [
      "[I 2023-10-30 23:14:08,356] Trial 3 finished with value: 0.30444785952568054 and parameters: {'n_units1': 55, 'n_units2': 107, 'n_units3': 99, 'optimizer': <class 'keras.optimizers.adam.Adam'>, 'learning_rate': 0.001655504207543851, 'w0': 0.4524112947310124, 'w1': 0.01485468446493371}. Best is trial 2 with value: 0.33052146434783936.\n"
     ]
    },
    {
     "name": "stdout",
     "output_type": "stream",
     "text": [
      "Restoring model weights from the end of the best epoch: 30.\n",
      "Epoch 55: early stopping\n"
     ]
    },
    {
     "name": "stderr",
     "output_type": "stream",
     "text": [
      "[I 2023-10-30 23:14:19,873] Trial 4 finished with value: 0.6157975196838379 and parameters: {'n_units1': 76, 'n_units2': 10, 'n_units3': 66, 'optimizer': <class 'keras.optimizers.nadam.Nadam'>, 'learning_rate': 0.02062085064563555, 'w0': 0.035662948846104096, 'w1': 0.12319589721493507}. Best is trial 4 with value: 0.6157975196838379.\n",
      "[I 2023-10-30 23:15:09,627] Trial 5 finished with value: 0.6226993799209595 and parameters: {'n_units1': 67, 'n_units2': 76, 'n_units3': 75, 'optimizer': <class 'keras.optimizers.adadelta.Adadelta'>, 'learning_rate': 7.072054063065082e-05, 'w0': 0.24875370743209782, 'w1': 0.870014216824594}. Best is trial 5 with value: 0.6226993799209595.\n"
     ]
    },
    {
     "name": "stdout",
     "output_type": "stream",
     "text": [
      "Restoring model weights from the end of the best epoch: 88.\n",
      "Epoch 113: early stopping\n"
     ]
    },
    {
     "name": "stderr",
     "output_type": "stream",
     "text": [
      "[I 2023-10-30 23:15:30,400] Trial 6 finished with value: 0.8826687335968018 and parameters: {'n_units1': 113, 'n_units2': 40, 'n_units3': 62, 'optimizer': <class 'keras.optimizers.nadam.Nadam'>, 'learning_rate': 0.0001221734746921497, 'w0': 0.012890643352195917, 'w1': 0.11083352974445823}. Best is trial 6 with value: 0.8826687335968018.\n"
     ]
    },
    {
     "name": "stdout",
     "output_type": "stream",
     "text": [
      "Restoring model weights from the end of the best epoch: 1.\n",
      "Epoch 26: early stopping\n"
     ]
    },
    {
     "name": "stderr",
     "output_type": "stream",
     "text": [
      "[I 2023-10-30 23:15:37,889] Trial 7 finished with value: 0.46932515501976013 and parameters: {'n_units1': 26, 'n_units2': 55, 'n_units3': 75, 'optimizer': <class 'keras.optimizers.nadam.Nadam'>, 'learning_rate': 1.6419469420957336e-05, 'w0': 0.42808666322511846, 'w1': 3.5311918724862754}. Best is trial 6 with value: 0.8826687335968018.\n"
     ]
    },
    {
     "name": "stdout",
     "output_type": "stream",
     "text": [
      "Restoring model weights from the end of the best epoch: 19.\n",
      "Epoch 44: early stopping\n"
     ]
    },
    {
     "name": "stderr",
     "output_type": "stream",
     "text": [
      "[I 2023-10-30 23:15:47,837] Trial 8 finished with value: 0.3358895778656006 and parameters: {'n_units1': 68, 'n_units2': 125, 'n_units3': 31, 'optimizer': <class 'keras.optimizers.rmsprop.RMSprop'>, 'learning_rate': 0.0026084916803241105, 'w0': 0.20836370618437922, 'w1': 0.03701038499368605}. Best is trial 6 with value: 0.8826687335968018.\n"
     ]
    },
    {
     "name": "stdout",
     "output_type": "stream",
     "text": [
      "Restoring model weights from the end of the best epoch: 67.\n",
      "Epoch 92: early stopping\n"
     ]
    },
    {
     "name": "stderr",
     "output_type": "stream",
     "text": [
      "[I 2023-10-30 23:16:07,788] Trial 9 finished with value: 0.21779140830039978 and parameters: {'n_units1': 123, 'n_units2': 72, 'n_units3': 86, 'optimizer': <class 'keras.optimizers.nadam.Nadam'>, 'learning_rate': 0.0001647152278800045, 'w0': 1.033540443690106, 'w1': 0.11749240138893659}. Best is trial 6 with value: 0.8826687335968018.\n"
     ]
    },
    {
     "data": {
      "text/plain": [
       "{'n_units1': 113,\n",
       " 'n_units2': 40,\n",
       " 'n_units3': 62,\n",
       " 'optimizer': keras.optimizers.nadam.Nadam,\n",
       " 'learning_rate': 0.0001221734746921497,\n",
       " 'w0': 0.012890643352195917,\n",
       " 'w1': 0.11083352974445823}"
      ]
     },
     "execution_count": 91,
     "metadata": {},
     "output_type": "execute_result"
    }
   ],
   "source": [
    "study = optuna.create_study(direction=\"maximize\")\n",
    "study.optimize(objective, n_trials=10)\n",
    "study.best_params"
   ]
  },
  {
   "cell_type": "code",
   "execution_count": 92,
   "metadata": {},
   "outputs": [
    {
     "name": "stdout",
     "output_type": "stream",
     "text": [
      "Epoch 1/300\n",
      "100/100 [==============================] - 2s 4ms/step - loss: 0.0216 - recall: 0.9755 - val_loss: 0.8649 - val_recall: 1.0000\n",
      "Epoch 2/300\n",
      "100/100 [==============================] - 0s 2ms/step - loss: 0.0203 - recall: 1.0000 - val_loss: 0.9416 - val_recall: 1.0000\n",
      "Epoch 3/300\n",
      "100/100 [==============================] - 0s 2ms/step - loss: 0.0197 - recall: 1.0000 - val_loss: 0.9247 - val_recall: 1.0000\n",
      "Epoch 4/300\n",
      "100/100 [==============================] - 0s 3ms/step - loss: 0.0191 - recall: 1.0000 - val_loss: 0.8965 - val_recall: 0.9939\n",
      "Epoch 5/300\n",
      "100/100 [==============================] - 0s 2ms/step - loss: 0.0186 - recall: 0.9686 - val_loss: 0.8983 - val_recall: 0.9509\n",
      "Epoch 6/300\n",
      "100/100 [==============================] - 0s 2ms/step - loss: 0.0183 - recall: 0.9479 - val_loss: 0.8701 - val_recall: 0.9110\n",
      "Epoch 7/300\n",
      "100/100 [==============================] - 0s 2ms/step - loss: 0.0180 - recall: 0.9287 - val_loss: 0.8432 - val_recall: 0.9049\n",
      "Epoch 8/300\n",
      "100/100 [==============================] - 0s 2ms/step - loss: 0.0178 - recall: 0.9210 - val_loss: 0.8704 - val_recall: 0.9110\n",
      "Epoch 9/300\n",
      "100/100 [==============================] - 0s 2ms/step - loss: 0.0176 - recall: 0.9179 - val_loss: 0.9038 - val_recall: 0.9233\n",
      "Epoch 10/300\n",
      "100/100 [==============================] - 0s 2ms/step - loss: 0.0175 - recall: 0.9241 - val_loss: 0.8581 - val_recall: 0.9049\n",
      "Epoch 11/300\n",
      "100/100 [==============================] - 0s 2ms/step - loss: 0.0173 - recall: 0.9210 - val_loss: 0.8994 - val_recall: 0.9110\n",
      "Epoch 12/300\n",
      "100/100 [==============================] - 0s 2ms/step - loss: 0.0172 - recall: 0.9256 - val_loss: 0.8286 - val_recall: 0.8926\n",
      "Epoch 13/300\n",
      "100/100 [==============================] - 0s 2ms/step - loss: 0.0170 - recall: 0.9218 - val_loss: 0.7982 - val_recall: 0.8834\n",
      "Epoch 14/300\n",
      "100/100 [==============================] - 0s 2ms/step - loss: 0.0169 - recall: 0.9179 - val_loss: 0.8300 - val_recall: 0.8926\n",
      "Epoch 15/300\n",
      "100/100 [==============================] - 0s 2ms/step - loss: 0.0167 - recall: 0.9141 - val_loss: 0.8263 - val_recall: 0.8926\n",
      "Epoch 16/300\n",
      "100/100 [==============================] - 0s 2ms/step - loss: 0.0166 - recall: 0.9202 - val_loss: 0.7711 - val_recall: 0.8834\n",
      "Epoch 17/300\n",
      "100/100 [==============================] - 0s 2ms/step - loss: 0.0165 - recall: 0.9141 - val_loss: 0.8165 - val_recall: 0.8926\n",
      "Epoch 18/300\n",
      "100/100 [==============================] - 0s 2ms/step - loss: 0.0164 - recall: 0.9218 - val_loss: 0.8120 - val_recall: 0.8926\n",
      "Epoch 19/300\n",
      "100/100 [==============================] - 0s 2ms/step - loss: 0.0163 - recall: 0.9179 - val_loss: 0.7831 - val_recall: 0.8926\n",
      "Epoch 20/300\n",
      "100/100 [==============================] - 0s 2ms/step - loss: 0.0162 - recall: 0.9133 - val_loss: 0.7876 - val_recall: 0.8896\n",
      "Epoch 21/300\n",
      "100/100 [==============================] - 0s 3ms/step - loss: 0.0161 - recall: 0.9118 - val_loss: 0.7527 - val_recall: 0.8834\n",
      "Epoch 22/300\n",
      "100/100 [==============================] - 0s 2ms/step - loss: 0.0160 - recall: 0.9087 - val_loss: 0.8313 - val_recall: 0.8988\n",
      "Epoch 23/300\n",
      "100/100 [==============================] - 0s 2ms/step - loss: 0.0159 - recall: 0.9133 - val_loss: 0.7132 - val_recall: 0.8650\n",
      "Epoch 24/300\n",
      "100/100 [==============================] - 0s 2ms/step - loss: 0.0158 - recall: 0.9087 - val_loss: 0.7502 - val_recall: 0.8896\n",
      "Epoch 25/300\n",
      "100/100 [==============================] - 0s 2ms/step - loss: 0.0157 - recall: 0.9118 - val_loss: 0.7454 - val_recall: 0.8865\n",
      "Epoch 26/300\n",
      "100/100 [==============================] - 0s 2ms/step - loss: 0.0155 - recall: 0.9095 - val_loss: 0.7389 - val_recall: 0.8865\n",
      "Epoch 27/300\n",
      "100/100 [==============================] - 0s 2ms/step - loss: 0.0155 - recall: 0.9095 - val_loss: 0.7185 - val_recall: 0.8773\n",
      "Epoch 28/300\n",
      "100/100 [==============================] - 0s 2ms/step - loss: 0.0153 - recall: 0.9103 - val_loss: 0.6837 - val_recall: 0.8681\n",
      "Epoch 29/300\n",
      "100/100 [==============================] - 0s 2ms/step - loss: 0.0153 - recall: 0.9049 - val_loss: 0.7681 - val_recall: 0.8988\n",
      "Epoch 30/300\n",
      "100/100 [==============================] - 0s 2ms/step - loss: 0.0152 - recall: 0.9141 - val_loss: 0.7115 - val_recall: 0.8896\n",
      "Epoch 31/300\n",
      "100/100 [==============================] - 0s 2ms/step - loss: 0.0151 - recall: 0.9064 - val_loss: 0.7202 - val_recall: 0.8926\n",
      "Epoch 32/300\n",
      "100/100 [==============================] - 0s 2ms/step - loss: 0.0150 - recall: 0.9087 - val_loss: 0.7200 - val_recall: 0.8926\n",
      "Epoch 33/300\n",
      "100/100 [==============================] - 0s 2ms/step - loss: 0.0149 - recall: 0.9064 - val_loss: 0.6927 - val_recall: 0.8834\n",
      "Epoch 34/300\n",
      "100/100 [==============================] - 0s 2ms/step - loss: 0.0148 - recall: 0.9080 - val_loss: 0.6881 - val_recall: 0.8834\n",
      "Epoch 35/300\n",
      "100/100 [==============================] - 0s 2ms/step - loss: 0.0148 - recall: 0.9026 - val_loss: 0.7166 - val_recall: 0.9018\n",
      "Epoch 36/300\n",
      "100/100 [==============================] - 0s 2ms/step - loss: 0.0147 - recall: 0.9018 - val_loss: 0.6861 - val_recall: 0.8926\n",
      "Epoch 37/300\n",
      "100/100 [==============================] - 0s 2ms/step - loss: 0.0146 - recall: 0.9103 - val_loss: 0.7278 - val_recall: 0.9110\n",
      "Epoch 38/300\n",
      "100/100 [==============================] - 0s 2ms/step - loss: 0.0146 - recall: 0.9034 - val_loss: 0.6754 - val_recall: 0.8865\n",
      "Epoch 39/300\n",
      "100/100 [==============================] - 0s 2ms/step - loss: 0.0145 - recall: 0.8995 - val_loss: 0.7391 - val_recall: 0.9110\n",
      "Epoch 40/300\n",
      "100/100 [==============================] - 0s 2ms/step - loss: 0.0145 - recall: 0.9018 - val_loss: 0.7233 - val_recall: 0.9110\n",
      "Epoch 41/300\n",
      "100/100 [==============================] - 0s 2ms/step - loss: 0.0144 - recall: 0.9103 - val_loss: 0.6489 - val_recall: 0.8773\n",
      "Epoch 42/300\n",
      "100/100 [==============================] - 0s 2ms/step - loss: 0.0144 - recall: 0.9003 - val_loss: 0.7090 - val_recall: 0.9080\n",
      "Epoch 43/300\n",
      "100/100 [==============================] - 0s 2ms/step - loss: 0.0143 - recall: 0.9080 - val_loss: 0.7500 - val_recall: 0.9110\n",
      "Epoch 44/300\n",
      "100/100 [==============================] - 0s 2ms/step - loss: 0.0143 - recall: 0.9087 - val_loss: 0.7033 - val_recall: 0.9080\n",
      "Epoch 45/300\n",
      "100/100 [==============================] - 0s 3ms/step - loss: 0.0142 - recall: 0.9072 - val_loss: 0.6824 - val_recall: 0.8957\n",
      "Epoch 46/300\n",
      "100/100 [==============================] - 0s 2ms/step - loss: 0.0142 - recall: 0.9041 - val_loss: 0.7039 - val_recall: 0.9018\n",
      "Epoch 47/300\n",
      "100/100 [==============================] - 0s 2ms/step - loss: 0.0142 - recall: 0.9003 - val_loss: 0.7201 - val_recall: 0.9110\n",
      "Epoch 48/300\n",
      "100/100 [==============================] - 0s 2ms/step - loss: 0.0141 - recall: 0.9018 - val_loss: 0.7443 - val_recall: 0.9141\n",
      "Epoch 49/300\n",
      "100/100 [==============================] - 0s 2ms/step - loss: 0.0141 - recall: 0.9080 - val_loss: 0.6374 - val_recall: 0.8681\n",
      "Epoch 50/300\n",
      "100/100 [==============================] - 0s 2ms/step - loss: 0.0141 - recall: 0.9011 - val_loss: 0.7018 - val_recall: 0.9018\n",
      "Epoch 51/300\n",
      "100/100 [==============================] - 0s 2ms/step - loss: 0.0141 - recall: 0.9057 - val_loss: 0.7310 - val_recall: 0.9110\n",
      "Epoch 52/300\n",
      "100/100 [==============================] - 0s 2ms/step - loss: 0.0141 - recall: 0.9072 - val_loss: 0.7009 - val_recall: 0.9018\n",
      "Epoch 53/300\n",
      "100/100 [==============================] - 0s 2ms/step - loss: 0.0140 - recall: 0.9072 - val_loss: 0.6727 - val_recall: 0.8896\n",
      "Epoch 54/300\n",
      "100/100 [==============================] - 0s 2ms/step - loss: 0.0140 - recall: 0.9018 - val_loss: 0.6664 - val_recall: 0.8834\n",
      "Epoch 55/300\n",
      "100/100 [==============================] - 0s 2ms/step - loss: 0.0140 - recall: 0.9087 - val_loss: 0.7447 - val_recall: 0.9110\n",
      "Epoch 56/300\n",
      "100/100 [==============================] - 0s 2ms/step - loss: 0.0140 - recall: 0.9049 - val_loss: 0.6685 - val_recall: 0.8865\n",
      "Epoch 57/300\n",
      "100/100 [==============================] - 0s 2ms/step - loss: 0.0139 - recall: 0.9049 - val_loss: 0.6658 - val_recall: 0.8865\n",
      "Epoch 58/300\n",
      "100/100 [==============================] - 0s 2ms/step - loss: 0.0139 - recall: 0.9057 - val_loss: 0.6324 - val_recall: 0.8712\n",
      "Epoch 59/300\n",
      "100/100 [==============================] - 0s 2ms/step - loss: 0.0139 - recall: 0.9018 - val_loss: 0.6976 - val_recall: 0.8957\n",
      "Epoch 60/300\n",
      "100/100 [==============================] - 0s 2ms/step - loss: 0.0138 - recall: 0.9087 - val_loss: 0.6827 - val_recall: 0.8926\n",
      "Epoch 61/300\n",
      "100/100 [==============================] - 0s 2ms/step - loss: 0.0138 - recall: 0.9057 - val_loss: 0.7398 - val_recall: 0.9080\n",
      "Epoch 62/300\n",
      "100/100 [==============================] - 0s 3ms/step - loss: 0.0138 - recall: 0.9110 - val_loss: 0.6106 - val_recall: 0.8528\n",
      "Epoch 63/300\n",
      "100/100 [==============================] - 0s 2ms/step - loss: 0.0138 - recall: 0.9080 - val_loss: 0.6498 - val_recall: 0.8804\n",
      "Epoch 64/300\n",
      "100/100 [==============================] - 0s 2ms/step - loss: 0.0138 - recall: 0.9095 - val_loss: 0.6479 - val_recall: 0.8742\n",
      "Epoch 65/300\n",
      "100/100 [==============================] - 0s 2ms/step - loss: 0.0138 - recall: 0.9103 - val_loss: 0.6464 - val_recall: 0.8773\n",
      "Epoch 66/300\n",
      "100/100 [==============================] - 0s 2ms/step - loss: 0.0137 - recall: 0.9087 - val_loss: 0.7077 - val_recall: 0.8896\n",
      "Epoch 67/300\n",
      "100/100 [==============================] - 0s 2ms/step - loss: 0.0137 - recall: 0.9026 - val_loss: 0.7053 - val_recall: 0.8896\n",
      "Epoch 68/300\n",
      "100/100 [==============================] - 0s 2ms/step - loss: 0.0137 - recall: 0.9126 - val_loss: 0.6533 - val_recall: 0.8742\n",
      "Epoch 69/300\n",
      "100/100 [==============================] - 0s 2ms/step - loss: 0.0137 - recall: 0.9057 - val_loss: 0.6697 - val_recall: 0.8834\n",
      "Epoch 70/300\n",
      "100/100 [==============================] - 0s 2ms/step - loss: 0.0137 - recall: 0.9110 - val_loss: 0.6567 - val_recall: 0.8742\n",
      "Epoch 71/300\n",
      "100/100 [==============================] - 0s 2ms/step - loss: 0.0137 - recall: 0.9057 - val_loss: 0.6590 - val_recall: 0.8773\n",
      "Epoch 72/300\n",
      "100/100 [==============================] - 0s 2ms/step - loss: 0.0137 - recall: 0.9049 - val_loss: 0.6786 - val_recall: 0.8834\n",
      "Epoch 73/300\n",
      "100/100 [==============================] - 0s 2ms/step - loss: 0.0136 - recall: 0.9095 - val_loss: 0.6790 - val_recall: 0.8834\n",
      "Epoch 74/300\n",
      "100/100 [==============================] - 0s 2ms/step - loss: 0.0136 - recall: 0.9126 - val_loss: 0.6221 - val_recall: 0.8620\n",
      "Epoch 75/300\n",
      "100/100 [==============================] - 0s 2ms/step - loss: 0.0136 - recall: 0.9057 - val_loss: 0.6122 - val_recall: 0.8620\n",
      "Epoch 76/300\n",
      "100/100 [==============================] - 0s 2ms/step - loss: 0.0136 - recall: 0.9049 - val_loss: 0.6890 - val_recall: 0.8804\n",
      "Epoch 77/300\n",
      "100/100 [==============================] - 0s 3ms/step - loss: 0.0136 - recall: 0.9080 - val_loss: 0.6598 - val_recall: 0.8742\n",
      "Epoch 78/300\n",
      "100/100 [==============================] - 0s 2ms/step - loss: 0.0135 - recall: 0.9080 - val_loss: 0.6507 - val_recall: 0.8712\n",
      "Epoch 79/300\n",
      "100/100 [==============================] - 0s 2ms/step - loss: 0.0135 - recall: 0.9057 - val_loss: 0.6868 - val_recall: 0.8804\n",
      "Epoch 80/300\n",
      "100/100 [==============================] - 0s 2ms/step - loss: 0.0135 - recall: 0.9103 - val_loss: 0.6170 - val_recall: 0.8650\n",
      "Epoch 81/300\n",
      "100/100 [==============================] - 0s 2ms/step - loss: 0.0135 - recall: 0.9072 - val_loss: 0.6300 - val_recall: 0.8650\n",
      "Epoch 82/300\n",
      "100/100 [==============================] - 0s 2ms/step - loss: 0.0135 - recall: 0.9103 - val_loss: 0.5929 - val_recall: 0.8528\n",
      "Epoch 83/300\n",
      "100/100 [==============================] - 0s 2ms/step - loss: 0.0135 - recall: 0.9057 - val_loss: 0.7149 - val_recall: 0.8865\n",
      "Epoch 84/300\n",
      "100/100 [==============================] - 0s 2ms/step - loss: 0.0135 - recall: 0.9095 - val_loss: 0.6620 - val_recall: 0.8712\n",
      "Epoch 85/300\n",
      "100/100 [==============================] - 0s 2ms/step - loss: 0.0135 - recall: 0.9118 - val_loss: 0.6111 - val_recall: 0.8589\n",
      "Epoch 86/300\n",
      "100/100 [==============================] - 0s 2ms/step - loss: 0.0134 - recall: 0.9057 - val_loss: 0.6186 - val_recall: 0.8589\n",
      "Epoch 87/300\n",
      "100/100 [==============================] - 0s 3ms/step - loss: 0.0135 - recall: 0.9064 - val_loss: 0.6896 - val_recall: 0.8804\n",
      "Epoch 88/300\n",
      "100/100 [==============================] - 0s 2ms/step - loss: 0.0134 - recall: 0.9064 - val_loss: 0.5888 - val_recall: 0.8558\n",
      "Epoch 89/300\n",
      "100/100 [==============================] - 0s 2ms/step - loss: 0.0134 - recall: 0.9041 - val_loss: 0.6490 - val_recall: 0.8681\n",
      "Epoch 90/300\n",
      "100/100 [==============================] - 0s 2ms/step - loss: 0.0134 - recall: 0.9057 - val_loss: 0.6664 - val_recall: 0.8742\n",
      "Epoch 91/300\n",
      "100/100 [==============================] - 0s 2ms/step - loss: 0.0134 - recall: 0.9087 - val_loss: 0.6755 - val_recall: 0.8773\n",
      "Epoch 92/300\n",
      "100/100 [==============================] - 0s 2ms/step - loss: 0.0134 - recall: 0.9072 - val_loss: 0.6728 - val_recall: 0.8712\n",
      "Epoch 93/300\n",
      "100/100 [==============================] - 0s 2ms/step - loss: 0.0134 - recall: 0.9057 - val_loss: 0.6128 - val_recall: 0.8650\n",
      "Epoch 94/300\n",
      "100/100 [==============================] - 0s 2ms/step - loss: 0.0133 - recall: 0.9141 - val_loss: 0.6214 - val_recall: 0.8620\n",
      "Epoch 95/300\n",
      "100/100 [==============================] - 0s 2ms/step - loss: 0.0134 - recall: 0.9080 - val_loss: 0.6141 - val_recall: 0.8620\n",
      "Epoch 96/300\n",
      "100/100 [==============================] - 0s 2ms/step - loss: 0.0133 - recall: 0.9049 - val_loss: 0.6492 - val_recall: 0.8712\n",
      "Epoch 97/300\n",
      "100/100 [==============================] - 0s 2ms/step - loss: 0.0133 - recall: 0.9080 - val_loss: 0.6327 - val_recall: 0.8650\n",
      "Epoch 98/300\n",
      "100/100 [==============================] - 0s 2ms/step - loss: 0.0133 - recall: 0.9049 - val_loss: 0.6333 - val_recall: 0.8650\n",
      "Epoch 99/300\n",
      "100/100 [==============================] - 0s 2ms/step - loss: 0.0133 - recall: 0.9095 - val_loss: 0.6765 - val_recall: 0.8712\n",
      "Epoch 100/300\n",
      "100/100 [==============================] - 0s 2ms/step - loss: 0.0133 - recall: 0.9164 - val_loss: 0.6222 - val_recall: 0.8650\n",
      "Epoch 101/300\n",
      "100/100 [==============================] - 0s 2ms/step - loss: 0.0133 - recall: 0.9095 - val_loss: 0.6548 - val_recall: 0.8650\n",
      "Epoch 102/300\n",
      "100/100 [==============================] - 0s 2ms/step - loss: 0.0133 - recall: 0.9126 - val_loss: 0.6690 - val_recall: 0.8712\n",
      "Epoch 103/300\n",
      "100/100 [==============================] - 0s 2ms/step - loss: 0.0132 - recall: 0.9080 - val_loss: 0.6261 - val_recall: 0.8650\n",
      "Epoch 104/300\n",
      "100/100 [==============================] - 0s 2ms/step - loss: 0.0132 - recall: 0.9126 - val_loss: 0.6512 - val_recall: 0.8681\n",
      "Epoch 105/300\n",
      "100/100 [==============================] - 0s 2ms/step - loss: 0.0132 - recall: 0.9141 - val_loss: 0.6094 - val_recall: 0.8650\n",
      "Epoch 106/300\n",
      "100/100 [==============================] - 0s 2ms/step - loss: 0.0132 - recall: 0.9126 - val_loss: 0.7013 - val_recall: 0.8742\n",
      "Epoch 107/300\n",
      "100/100 [==============================] - 0s 2ms/step - loss: 0.0132 - recall: 0.9087 - val_loss: 0.6631 - val_recall: 0.8681\n",
      "Epoch 108/300\n",
      "100/100 [==============================] - 0s 3ms/step - loss: 0.0132 - recall: 0.9103 - val_loss: 0.6806 - val_recall: 0.8773\n",
      "Epoch 109/300\n",
      "100/100 [==============================] - 0s 3ms/step - loss: 0.0132 - recall: 0.9110 - val_loss: 0.6462 - val_recall: 0.8681\n",
      "Epoch 110/300\n",
      "100/100 [==============================] - 0s 3ms/step - loss: 0.0132 - recall: 0.9072 - val_loss: 0.6686 - val_recall: 0.8773\n",
      "Epoch 111/300\n",
      "100/100 [==============================] - 0s 2ms/step - loss: 0.0131 - recall: 0.9110 - val_loss: 0.6936 - val_recall: 0.8742\n",
      "Epoch 112/300\n",
      "100/100 [==============================] - 0s 2ms/step - loss: 0.0131 - recall: 0.9087 - val_loss: 0.6153 - val_recall: 0.8620\n",
      "Epoch 113/300\n",
      " 76/100 [=====================>........] - ETA: 0s - loss: 0.0131 - recall: 0.9102Restoring model weights from the end of the best epoch: 88.\n",
      "100/100 [==============================] - 0s 2ms/step - loss: 0.0132 - recall: 0.9087 - val_loss: 0.6098 - val_recall: 0.8620\n",
      "Epoch 113: early stopping\n"
     ]
    },
    {
     "data": {
      "text/plain": [
       "<keras.callbacks.History at 0x1d5cfd256c0>"
      ]
     },
     "execution_count": 92,
     "metadata": {},
     "output_type": "execute_result"
    }
   ],
   "source": [
    "# build model with optuna parameters\n",
    "unit1, unit2, unit3,optimizer, lr, w0, w1 = (\n",
    "    study.best_params[\"n_units1\"],\n",
    "    study.best_params[\"n_units2\"],\n",
    "    study.best_params[\"n_units3\"],\n",
    "    study.best_params[\"optimizer\"],\n",
    "    study.best_params[\"learning_rate\"],\n",
    "    study.best_params[\"w0\"],\n",
    "    study.best_params[\"w1\"],\n",
    ")\n",
    "tf.random.set_seed(42)\n",
    "model = Sequential()\n",
    "model.add(Dense(unit1, activation=\"relu\"))\n",
    "model.add(Dense(unit2, activation=\"relu\"))\n",
    "model.add(Dense(unit3, activation=\"relu\"))\n",
    "model.add(Dense(1, activation=\"sigmoid\"))\n",
    "opt = optimizer(learning_rate=lr)\n",
    "model.compile(optimizer=opt, loss=\"binary_crossentropy\", metrics=[\"Recall\"])\n",
    "\n",
    "# train model\n",
    "model.fit(\n",
    "    X_train,\n",
    "    y_train,\n",
    "    validation_data=(X_val, y_val),\n",
    "    batch_size=64,\n",
    "    epochs=300,\n",
    "    callbacks=[callback],\n",
    "    class_weight= {0: w0, 1:w1},\n",
    "    verbose=1,\n",
    ")"
   ]
  },
  {
   "cell_type": "markdown",
   "metadata": {},
   "source": [
    "### Evaluate The Model\n",
    "\n",
    "- Plot the model history to observe the changing of metrics\n",
    "- Make prediction to see \"confusion matrix\" and \"classification report\"\n",
    "- Check ROC (Receiver Operating Curve) and AUC (Area Under Curve) for the model"
   ]
  },
  {
   "cell_type": "code",
   "execution_count": 96,
   "metadata": {},
   "outputs": [],
   "source": [
    "history = model.history.history"
   ]
  },
  {
   "cell_type": "code",
   "execution_count": 93,
   "metadata": {},
   "outputs": [
    {
     "name": "stdout",
     "output_type": "stream",
     "text": [
      "63/63 [==============================] - 0s 1ms/step\n",
      "[[1050  543]\n",
      " [  68  339]]\n",
      "              precision    recall  f1-score   support\n",
      "\n",
      "           0       0.94      0.66      0.77      1593\n",
      "           1       0.38      0.83      0.53       407\n",
      "\n",
      "    accuracy                           0.69      2000\n",
      "   macro avg       0.66      0.75      0.65      2000\n",
      "weighted avg       0.83      0.69      0.72      2000\n",
      "\n"
     ]
    }
   ],
   "source": [
    "from sklearn.metrics import classification_report, confusion_matrix\n",
    "\n",
    "\n",
    "y_pred = (model.predict(X_test) > 0.5)\n",
    "print(confusion_matrix(y_test, y_pred))\n",
    "print(classification_report(y_test, y_pred))"
   ]
  },
  {
   "cell_type": "code",
   "execution_count": 94,
   "metadata": {},
   "outputs": [
    {
     "name": "stdout",
     "output_type": "stream",
     "text": [
      "63/63 [==============================] - 0s 1ms/step\n"
     ]
    },
    {
     "data": {
      "text/plain": [
       "<sklearn.metrics._plot.roc_curve.RocCurveDisplay at 0x1d5ca3e8040>"
      ]
     },
     "execution_count": 94,
     "metadata": {},
     "output_type": "execute_result"
    },
    {
     "data": {
      "image/png": "[encoded data removed]",
      "text/plain": [
       "<Figure size 640x480 with 1 Axes>"
      ]
     },
     "metadata": {},
     "output_type": "display_data"
    }
   ],
   "source": [
    "from sklearn.metrics import RocCurveDisplay\n",
    "\n",
    "\n",
    "y_pred_proba = model.predict(X_test)\n",
    "RocCurveDisplay.from_predictions(y_test, y_pred_proba)"
   ]
  },
  {
   "cell_type": "code",
   "execution_count": 98,
   "metadata": {},
   "outputs": [
    {
     "name": "stdout",
     "output_type": "stream",
     "text": [
      "loss:  0.5733551979064941\n",
      "recall:  0.8329238295555115\n"
     ]
    }
   ],
   "source": [
    "loss, recall = model.evaluate(X_test, y_test, verbose=0)\n",
    "print(\"loss: \", loss)\n",
    "print(\"recall: \", recall)"
   ]
  },
  {
   "cell_type": "code",
   "execution_count": null,
   "metadata": {},
   "outputs": [],
   "source": [
    "## Final model"
   ]
  },
  {
   "cell_type": "code",
   "execution_count": 99,
   "metadata": {},
   "outputs": [],
   "source": [
    "import pickle\n",
    "%store -r df_con"
   ]
  },
  {
   "cell_type": "code",
   "execution_count": null,
   "metadata": {},
   "outputs": [],
   "source": []
  },
  {
   "cell_type": "code",
   "execution_count": 105,
   "metadata": {},
   "outputs": [],
   "source": [
    "pickle.dump(df_con, open(\"scaler_prediction\", \"wb\"))\n",
    "pickle.dump(scaler, open(\"scaler_churn\", \"wb\"))"
   ]
  },
  {
   "cell_type": "code",
   "execution_count": 106,
   "metadata": {},
   "outputs": [
    {
     "data": {
      "text/plain": [
       "CreditScore                619\n",
       "Age                         42\n",
       "Tenure                       2\n",
       "Balance                    0.0\n",
       "NumOfProducts                1\n",
       "HasCrCard                    1\n",
       "IsActiveMember               1\n",
       "EstimatedSalary      101348.88\n",
       "Geography_Germany        False\n",
       "Geography_Spain          False\n",
       "Gender_Male              False\n",
       "Name: 0, dtype: object"
      ]
     },
     "execution_count": 106,
     "metadata": {},
     "output_type": "execute_result"
    }
   ],
   "source": [
    "single_customer = df_con.drop(columns = \"Exited\").iloc[0]\n",
    "single_customer"
   ]
  },
  {
   "cell_type": "code",
   "execution_count": 102,
   "metadata": {},
   "outputs": [
    {
     "data": {
      "text/plain": [
       "{'n_units1': 113,\n",
       " 'n_units2': 40,\n",
       " 'n_units3': 62,\n",
       " 'optimizer': keras.optimizers.nadam.Nadam,\n",
       " 'learning_rate': 0.0001221734746921497,\n",
       " 'w0': 0.012890643352195917,\n",
       " 'w1': 0.11083352974445823}"
      ]
     },
     "execution_count": 102,
     "metadata": {},
     "output_type": "execute_result"
    }
   ],
   "source": [
    "study.best_params"
   ]
  },
  {
   "cell_type": "code",
   "execution_count": 17,
   "metadata": {},
   "outputs": [],
   "source": [
    "model.save(\"model_churn.h5\")"
   ]
  },
  {
   "cell_type": "code",
   "execution_count": 111,
   "metadata": {},
   "outputs": [],
   "source": [
    "from tensorflow.keras.models import load_model\n"
   ]
  },
  {
   "cell_type": "code",
   "execution_count": 113,
   "metadata": {},
   "outputs": [
    {
     "name": "stderr",
     "output_type": "stream",
     "text": [
      "c:\\Python310\\lib\\site-packages\\sklearn\\base.py:465: UserWarning: X does not have valid feature names, but MinMaxScaler was fitted with feature names\n",
      "  warnings.warn(\n"
     ]
    },
    {
     "data": {
      "text/plain": [
       "array([[0.538     , 0.32432432, 0.2       , 0.        , 0.        ,\n",
       "        1.        , 1.        , 0.50673489, 0.        , 0.        ,\n",
       "        0.        ]])"
      ]
     },
     "execution_count": 113,
     "metadata": {},
     "output_type": "execute_result"
    }
   ],
   "source": [
    "single_customer = scaler.transform(single_customer.values.reshape(-1, 11))\n",
    "single_customer"
   ]
  },
  {
   "cell_type": "code",
   "execution_count": 114,
   "metadata": {},
   "outputs": [
    {
     "name": "stdout",
     "output_type": "stream",
     "text": [
      "1/1 [==============================] - 0s 130ms/step\n"
     ]
    },
    {
     "data": {
      "text/plain": [
       "array([[0.7244962]], dtype=float32)"
      ]
     },
     "execution_count": 114,
     "metadata": {},
     "output_type": "execute_result"
    }
   ],
   "source": [
    "model.predict(single_customer)  \n"
   ]
  },
  {
   "cell_type": "code",
   "execution_count": 115,
   "metadata": {},
   "outputs": [
    {
     "data": {
      "text/plain": [
       "1"
      ]
     },
     "execution_count": 115,
     "metadata": {},
     "output_type": "execute_result"
    }
   ],
   "source": [
    "df[\"Exited\"].iloc[0]\n"
   ]
  },
  {
   "cell_type": "code",
   "execution_count": null,
   "metadata": {},
   "outputs": [
    {
     "data": {
      "text/plain": [
       "array([[0, 0],\n",
       "       [0, 0],\n",
       "       [0, 0],\n",
       "       ...,\n",
       "       [0, 0],\n",
       "       [0, 1],\n",
       "       [0, 0]], dtype=int64)"
      ]
     },
     "execution_count": 24,
     "metadata": {},
     "output_type": "execute_result"
    }
   ],
   "source": [
    "\n",
    "# import numpy as np\n",
    "\n",
    "\n",
    "# y_test = y_test.values.reshape(-1,1)\n",
    "# np.concatenate((y_pred.reshape(len(y_pred),1), y_test.reshape(len(y_test),1)), axis=1)"
   ]
  },
  {
   "cell_type": "code",
   "execution_count": null,
   "metadata": {},
   "outputs": [],
   "source": []
  }
 ],
 "metadata": {
  "kernelspec": {
   "display_name": "Python 3",
   "language": "python",
   "name": "python3"
  },
  "language_info": {
   "codemirror_mode": {
    "name": "ipython",
    "version": 3
   },
   "file_extension": ".py",
   "mimetype": "text/x-python",
   "name": "python",
   "nbconvert_exporter": "python",
   "pygments_lexer": "ipython3",
   "version": "3.10.2"
  }
 },
 "nbformat": 4,
 "nbformat_minor": 2
}
